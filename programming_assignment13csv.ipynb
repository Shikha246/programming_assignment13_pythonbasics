{
 "cells": [
  {
   "cell_type": "markdown",
   "id": "6ce6b8cc",
   "metadata": {},
   "source": [
    "## Question 1:Write a program that calculates and prints the value according to the given formula:\n",
    "\n",
    "Q = Square root of [(2 * C * D)/H]\n",
    "\n",
    "\n",
    "Following are the fixed values of C and H:\n",
    "\n",
    "C is 50. H is 30.\n",
    "\n",
    "D is the variable whose values should be input to your program in a comma-separated\n",
    "sequence.\n",
    "\n",
    "Example\n",
    "\n",
    "Let us assume the following comma separated input sequence is given to the program:\n",
    "\n",
    "100,150,180\n",
    "\n",
    "The output of the program should be:\n",
    "\n",
    "18,22,24"
   ]
  },
  {
   "cell_type": "code",
   "execution_count": 3,
   "id": "a35f9fc3",
   "metadata": {},
   "outputs": [
    {
     "name": "stdout",
     "output_type": "stream",
     "text": [
      "100,150,180\n",
      "18,22,24\n"
     ]
    }
   ],
   "source": [
    "import math\n",
    "c=50\n",
    "h=30\n",
    "value = []\n",
    "items=[x for x in input().split(',')]\n",
    "for d in items:\n",
    "    value.append(str(int(round(math.sqrt(2*c*float(d)/h)))))\n",
    "\n",
    "print(','.join(value))"
   ]
  },
  {
   "cell_type": "markdown",
   "id": "19b4dbfa",
   "metadata": {},
   "source": [
    "## Question 2:Write a program which takes 2 digits, X,Y as input and generates a 2-dimensional array. The element value in the i-th row and j-th column of the array should be i*j.\n",
    "\n",
    "Note: i=0,1.., X-1; j=0,1,¡Y-1.\n",
    "\n",
    "Example\n",
    "\n",
    "Suppose the following inputs are given to the program:\n",
    "\n",
    "3,5\n",
    "\n",
    "Then, the output of the program should be:\n",
    "\n",
    "[[0, 0, 0, 0, 0], [0, 1, 2, 3, 4], [0, 2, 4, 6, 8]]"
   ]
  },
  {
   "cell_type": "markdown",
   "id": "f25e4da1",
   "metadata": {},
   "source": [
    "## Question 3: Write a program that accepts a comma separated sequence of words as input and prints the words in a comma-separated sequence after sorting them alphabetically.\n",
    "\n",
    "Suppose the following input is supplied to the program:\n",
    "\n",
    "without,hello,bag,world\n",
    "\n",
    "Then, the output should be:\n",
    "\n",
    "bag,hello,without,world"
   ]
  },
  {
   "cell_type": "code",
   "execution_count": 9,
   "id": "b4b8906b",
   "metadata": {},
   "outputs": [
    {
     "name": "stdout",
     "output_type": "stream",
     "text": [
      "shikha,is,my,ramrakhyani\n",
      "is,my,ramrakhyani,shikha\n"
     ]
    }
   ],
   "source": [
    "new=list()\n",
    "items=[x for x in input().split(\",\")]\n",
    "items.sort()\n",
    "print(\",\".join(items))"
   ]
  },
  {
   "cell_type": "markdown",
   "id": "0ce158b8",
   "metadata": {},
   "source": [
    "## Question 4:Write a program that accepts a sequence of whitespace separated words as input and prints the words after removing all duplicate words and sorting them alphanumerically.\n",
    "\n",
    "Suppose the following input is supplied to the program:\n",
    "\n",
    "hello world and practice makes perfect and hello world again\n",
    "\n",
    "Then, the output should be:\n",
    "\n",
    "again and hello makes perfect practice world"
   ]
  },
  {
   "cell_type": "code",
   "execution_count": 28,
   "id": "3d2fe44f",
   "metadata": {},
   "outputs": [
    {
     "name": "stdout",
     "output_type": "stream",
     "text": [
      "hello world and practice makes perfect and hello world again\n",
      "again and hello makes perfect practice world\n"
     ]
    }
   ],
   "source": [
    "items=[x for x in input().split(\" \")]\n",
    "items.sort()\n",
    "#print(items)\n",
    "for i in range(len(items)):\n",
    "    if i<len(items):\n",
    "        if items[i] == items[i+1]:\n",
    "            #print(items[i+1])\n",
    "            del items[i+1]  \n",
    "        \n",
    "print(\" \".join(items))"
   ]
  },
  {
   "cell_type": "markdown",
   "id": "33be6cee",
   "metadata": {},
   "source": [
    "## Question 5:Write a program that accepts a sentence and calculate the number of letters and digits.\n",
    "\n",
    "Suppose the following input is supplied to the program:\n",
    "\n",
    "hello world! 123\n",
    "\n",
    "Then, the output should be:\n",
    "LETTERS 10\n",
    "\n",
    "DIGITS 3\n",
    "\n"
   ]
  },
  {
   "cell_type": "code",
   "execution_count": 36,
   "id": "6bca9fd3",
   "metadata": {},
   "outputs": [
    {
     "name": "stdout",
     "output_type": "stream",
     "text": [
      "Enter a sentence:hello world! 123\n",
      "letters:10 Digits:3\n"
     ]
    }
   ],
   "source": [
    "my_string=input(\"Enter a sentence:\")\n",
    "alphabets=['a','b','c','d','e','f','g','h','i','j','k','l','m','n','o','p','q','r','s','t','u','v','w','x','y','z']\n",
    "numbers=['0','1','2','3','4','5','6','7','8','9']\n",
    "count=0\n",
    "num=0\n",
    "for i in range(len(my_string)):\n",
    "    if my_string[i] in alphabets :\n",
    "        count=count+1\n",
    "for j in range(len(my_string)):\n",
    "    if my_string[j] in numbers:\n",
    "        num=num+1\n",
    "print(f\"letters:{count} Digits:{num}\")"
   ]
  },
  {
   "cell_type": "markdown",
   "id": "837d3ad5",
   "metadata": {},
   "source": [
    "## Question 6:A website requires the users to input username and password to register. Write a program to check the validity of password input by users.\n",
    "\n",
    "Following are the criteria for checking the password:\n",
    "1. At least 1 letter between [a-z]\n",
    "\n",
    "2. At least 1 number between [0-9]\n",
    "\n",
    "1. At least 1 letter between [A-Z]\n",
    "\n",
    "3. At least 1 character from [$#@]\n",
    "\n",
    "4. Minimum length of transaction password: 6\n",
    "\n",
    "5. Maximum length of transaction password: 12\n",
    "\n",
    "Your program should accept a sequence of comma separated passwords and will check them\n",
    "according to the above criteria. Passwords that match the criteria are to be printed, each\n",
    "separated by a comma.\n",
    "\n",
    "Example\n",
    "\n",
    "If the following passwords are given as input to the program:\n",
    "\n",
    "ABd1234@1,a F1#,2w3E*,2We3345\n",
    "\n",
    "Then, the output of the program should be:\n",
    "\n",
    "ABd1234@1"
   ]
  },
  {
   "cell_type": "code",
   "execution_count": 53,
   "id": "407df044",
   "metadata": {},
   "outputs": [
    {
     "name": "stdout",
     "output_type": "stream",
     "text": [
      "ABd1234@1,a F1#,2w3E*,2We3345\n",
      "ABd1234@1\n"
     ]
    }
   ],
   "source": [
    "items=[x for x in input().split(',')]\n",
    "#print(items)\n",
    "capital=['A','B','C','D','E','F','G','H','I','J','K','L','M','N','O','P','Q','R','S','T','U','V','W','X','Y','Z']\n",
    "small=['a','b','c','d','e','f','g','h','i','j','k','l','m','n','o','p','q','r','s','t','u','v','w','x','y','z']\n",
    "numbers=['0','1','2','3','4','5','6','7','8','9']\n",
    "spe_char=['$','#','@']\n",
    "my_list=list()\n",
    "cap=False\n",
    "sma=False\n",
    "num=False\n",
    "spechar=False\n",
    "leng=False\n",
    "for i in items:\n",
    "    for j in range(len(i)):\n",
    "        if i[j] in capital:\n",
    "            cap=True\n",
    "        if i[j] in small:\n",
    "            sma=True\n",
    "        if i[j] in numbers:\n",
    "            num=True\n",
    "        if i[j] in spe_char:\n",
    "            spechar=True\n",
    "        if 6<len(i)<12:\n",
    "            leng=True\n",
    "    if (cap==True) and (sma==True) and (num==True) and (spechar==True) and (leng==True):\n",
    "        my_list.append(i)\n",
    "    cap=False\n",
    "    sma=False\n",
    "    num=False\n",
    "    spechar=False\n",
    "    leng=False\n",
    "    \n",
    "print(','.join(my_list))\n",
    "            \n",
    "\n",
    "            \n",
    "            \n",
    "\n",
    "    \n",
    "        "
   ]
  },
  {
   "cell_type": "code",
   "execution_count": null,
   "id": "619b5dc3",
   "metadata": {},
   "outputs": [],
   "source": []
  }
 ],
 "metadata": {
  "kernelspec": {
   "display_name": "Python 3 (ipykernel)",
   "language": "python",
   "name": "python3"
  },
  "language_info": {
   "codemirror_mode": {
    "name": "ipython",
    "version": 3
   },
   "file_extension": ".py",
   "mimetype": "text/x-python",
   "name": "python",
   "nbconvert_exporter": "python",
   "pygments_lexer": "ipython3",
   "version": "3.9.7"
  }
 },
 "nbformat": 4,
 "nbformat_minor": 5
}
